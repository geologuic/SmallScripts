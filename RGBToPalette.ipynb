{
 "cells": [
  {
   "cell_type": "markdown",
   "metadata": {
    "pycharm": {
     "name": "#%% md\n"
    }
   },
   "source": [
    "# RGB To Gocad Palette\n",
    "\n",
    "Input: A point set file containing RGB values for each point\n",
    "Output: A 256 color palette file + the point file with a texture coordinate column\n",
    "\n",
    "This notebook loads a set of RGB values and performs K-means in RGB space to get the most representative colors.\n",
    "Part of this notebook is inspired by https://victorangeloblancada.github.io/blog/2019/10/01/color-palette-clustering.html\n",
    "\n",
    "### First, some imports and global variables"
   ]
  },
  {
   "cell_type": "code",
   "source": [
    "import numpy as np\n",
    "import pandas as pd\n",
    "from matplotlib import pyplot as plt\n",
    "# from sklearn.cluster import KMeans\n",
    "from sklearn.cluster import MiniBatchKMeans\n",
    "\n",
    "# Fix random seed\n",
    "np.random.seed(0)\n",
    "\n",
    "# Set path to read / store files\n",
    "# from pathlib import Path\n",
    "path='D:\\Data\\Field\\FOLD_CAQUERELLE\\LiDAR3Dpoint clouds\\\\'\n",
    "input_file='Leica2_250413.ptx'\n",
    "base_name = input_file.rsplit('.', 1)[0]"
   ],
   "metadata": {
    "collapsed": false,
    "pycharm": {
     "name": "#%%\n"
    }
   },
   "execution_count": 8,
   "outputs": []
  },
  {
   "cell_type": "code",
   "execution_count": 9,
   "outputs": [],
   "source": [
    "### Reading the input file"
   ],
   "metadata": {
    "collapsed": false,
    "pycharm": {
     "name": "#%% m\n"
    }
   }
  },
  {
   "cell_type": "code",
   "execution_count": 10,
   "outputs": [],
   "source": [
    "def read_leica_lidar( input_leica_ptx_file ) :\n",
    "    leica_data = pd.read_csv(\n",
    "        path + input_leica_ptx_file, delimiter = ' ', header=10,\n",
    "        names=('X', 'Y', 'Z', 'Intensity', 'R', 'G', 'B' )\n",
    "    )\n",
    "    return leica_data\n",
    "\n",
    "data = read_leica_lidar(input_file)"
   ],
   "metadata": {
    "collapsed": false,
    "pycharm": {
     "name": "#%%\n"
    }
   }
  },
  {
   "cell_type": "markdown",
   "source": [
    "### Run the rgb clustering to form the color palette"
   ],
   "metadata": {
    "collapsed": false,
    "pycharm": {
     "name": "#%% md\n"
    }
   }
  },
  {
   "cell_type": "code",
   "execution_count": 11,
   "outputs": [
    {
     "data": {
      "text/plain": "                 X          Y          Z  Intensity    R   G   B  Texture\n0        10.643173 -10.056595  -1.274948   0.388220   54  58  43       61\n1        10.763077 -10.169998  -1.276779   0.400244   60  66  52       32\n2        10.770676 -10.177170  -1.266159   0.398413   60  66  52       32\n3        10.783310 -10.189133  -1.256271   0.410010   57  65  50       32\n4        10.963943 -10.360001  -1.264145   0.348608   53  61  46      126\n...            ...        ...        ...        ...  ...  ..  ..      ...\n3049743 -19.797928 -22.150620  20.661575   0.324727   56  45  31       68\n3049744 -19.818619 -22.173904  20.719223   0.248493   53  41  25      196\n3049745 -19.853714 -22.213303  20.791428   0.240803   64  53  35       40\n3049746 -19.848343 -22.207382  20.820358   0.241962   80  70  45      157\n3049747 -19.845535 -22.204422  20.853195   0.377539  102  95  66       70\n\n[3049748 rows x 8 columns]",
      "text/html": "<div>\n<style scoped>\n    .dataframe tbody tr th:only-of-type {\n        vertical-align: middle;\n    }\n\n    .dataframe tbody tr th {\n        vertical-align: top;\n    }\n\n    .dataframe thead th {\n        text-align: right;\n    }\n</style>\n<table border=\"1\" class=\"dataframe\">\n  <thead>\n    <tr style=\"text-align: right;\">\n      <th></th>\n      <th>X</th>\n      <th>Y</th>\n      <th>Z</th>\n      <th>Intensity</th>\n      <th>R</th>\n      <th>G</th>\n      <th>B</th>\n      <th>Texture</th>\n    </tr>\n  </thead>\n  <tbody>\n    <tr>\n      <th>0</th>\n      <td>10.643173</td>\n      <td>-10.056595</td>\n      <td>-1.274948</td>\n      <td>0.388220</td>\n      <td>54</td>\n      <td>58</td>\n      <td>43</td>\n      <td>61</td>\n    </tr>\n    <tr>\n      <th>1</th>\n      <td>10.763077</td>\n      <td>-10.169998</td>\n      <td>-1.276779</td>\n      <td>0.400244</td>\n      <td>60</td>\n      <td>66</td>\n      <td>52</td>\n      <td>32</td>\n    </tr>\n    <tr>\n      <th>2</th>\n      <td>10.770676</td>\n      <td>-10.177170</td>\n      <td>-1.266159</td>\n      <td>0.398413</td>\n      <td>60</td>\n      <td>66</td>\n      <td>52</td>\n      <td>32</td>\n    </tr>\n    <tr>\n      <th>3</th>\n      <td>10.783310</td>\n      <td>-10.189133</td>\n      <td>-1.256271</td>\n      <td>0.410010</td>\n      <td>57</td>\n      <td>65</td>\n      <td>50</td>\n      <td>32</td>\n    </tr>\n    <tr>\n      <th>4</th>\n      <td>10.963943</td>\n      <td>-10.360001</td>\n      <td>-1.264145</td>\n      <td>0.348608</td>\n      <td>53</td>\n      <td>61</td>\n      <td>46</td>\n      <td>126</td>\n    </tr>\n    <tr>\n      <th>...</th>\n      <td>...</td>\n      <td>...</td>\n      <td>...</td>\n      <td>...</td>\n      <td>...</td>\n      <td>...</td>\n      <td>...</td>\n      <td>...</td>\n    </tr>\n    <tr>\n      <th>3049743</th>\n      <td>-19.797928</td>\n      <td>-22.150620</td>\n      <td>20.661575</td>\n      <td>0.324727</td>\n      <td>56</td>\n      <td>45</td>\n      <td>31</td>\n      <td>68</td>\n    </tr>\n    <tr>\n      <th>3049744</th>\n      <td>-19.818619</td>\n      <td>-22.173904</td>\n      <td>20.719223</td>\n      <td>0.248493</td>\n      <td>53</td>\n      <td>41</td>\n      <td>25</td>\n      <td>196</td>\n    </tr>\n    <tr>\n      <th>3049745</th>\n      <td>-19.853714</td>\n      <td>-22.213303</td>\n      <td>20.791428</td>\n      <td>0.240803</td>\n      <td>64</td>\n      <td>53</td>\n      <td>35</td>\n      <td>40</td>\n    </tr>\n    <tr>\n      <th>3049746</th>\n      <td>-19.848343</td>\n      <td>-22.207382</td>\n      <td>20.820358</td>\n      <td>0.241962</td>\n      <td>80</td>\n      <td>70</td>\n      <td>45</td>\n      <td>157</td>\n    </tr>\n    <tr>\n      <th>3049747</th>\n      <td>-19.845535</td>\n      <td>-22.204422</td>\n      <td>20.853195</td>\n      <td>0.377539</td>\n      <td>102</td>\n      <td>95</td>\n      <td>66</td>\n      <td>70</td>\n    </tr>\n  </tbody>\n</table>\n<p>3049748 rows × 8 columns</p>\n</div>"
     },
     "execution_count": 11,
     "metadata": {},
     "output_type": "execute_result"
    }
   ],
   "source": [
    "# kmeans = KMeans(n_clusters=16, random_state=0)  # Too slow\n",
    "kmeans = MiniBatchKMeans( n_clusters=256, random_state=0, batch_size=2048)\n",
    "\n",
    "data['Texture'] = kmeans.fit_predict(data[['R','G','B']])\n",
    "\n",
    "data"
   ],
   "metadata": {
    "collapsed": false,
    "pycharm": {
     "name": "#%%\n"
    }
   }
  },
  {
   "cell_type": "code",
   "execution_count": 12,
   "outputs": [],
   "source": [
    "palette = kmeans.cluster_centers_"
   ],
   "metadata": {
    "collapsed": false,
    "pycharm": {
     "name": "#%%\n"
    }
   }
  },
  {
   "cell_type": "markdown",
   "source": [
    "### Create the color map file in Gocad 2019 format"
   ],
   "metadata": {
    "collapsed": false,
    "pycharm": {
     "name": "#%% md\n"
    }
   }
  },
  {
   "cell_type": "code",
   "execution_count": 13,
   "outputs": [],
   "source": [
    "def write_palette_file( color_map ):\n",
    "    file = open(path + base_name + '.xcmap', 'w+')\n",
    "    file.write(\"\"\"<?xml version=\"1.0\" encoding=\"UTF-8\" standalone=\"no\" ?>\n",
    "<Colormaps xmlns=\"http://pdgm.com/Gocad/ColormapEntity/2.8.0\">\n",
    "    <ColormapEntity>\n",
    "\"\"\")\n",
    "    file.write( f'<Name> {base_name} </Name>')\n",
    "    file.write(\"\"\"\n",
    "        <Kind>linear</Kind>\n",
    "        <Colors>\n",
    "        \"\"\")\n",
    "    color_index = 0\n",
    "    for col in color_map :\n",
    "        file.write( f'<Color index=\" {color_index} \" rgb=\"' +\n",
    "                    f'{col[0]/255} {col[1]/255} {col[2]/255}\"/>\\n'\n",
    "                    )\n",
    "        color_index+=1\n",
    "    file.write(\"\"\"\n",
    "            </Colors>\n",
    "            </ColormapEntity>\n",
    "        </Colormaps>\n",
    "        \"\"\")"
   ],
   "metadata": {
    "collapsed": false,
    "pycharm": {
     "name": "#%%\n"
    }
   }
  },
  {
   "cell_type": "markdown",
   "source": [
    "### Write the output files"
   ],
   "metadata": {
    "collapsed": false,
    "pycharm": {
     "name": "#%% md\n"
    }
   }
  },
  {
   "cell_type": "code",
   "execution_count": null,
   "outputs": [],
   "source": [
    "data.to_csv(path + base_name + '.csv',\n",
    "            sep = ' ',\n",
    "            columns=['X','Y','Z','Intensity','Texture'],\n",
    "            index=False)\n",
    "write_palette_file(palette)\n",
    "\n"
   ],
   "metadata": {
    "collapsed": false,
    "pycharm": {
     "name": "#%%\n",
     "is_executing": true
    }
   }
  }
 ],
 "metadata": {
  "kernelspec": {
   "display_name": "Python 3",
   "language": "python",
   "name": "python3"
  },
  "language_info": {
   "codemirror_mode": {
    "name": "ipython",
    "version": 3
   },
   "file_extension": ".py",
   "mimetype": "text/x-python",
   "name": "python",
   "nbconvert_exporter": "python",
   "pygments_lexer": "ipython3",
   "version": "3.7.4"
  }
 },
 "nbformat": 4,
 "nbformat_minor": 2
}